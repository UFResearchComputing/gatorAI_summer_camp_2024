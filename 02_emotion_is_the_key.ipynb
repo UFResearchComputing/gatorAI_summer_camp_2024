{
  "cells": [
    {
      "cell_type": "markdown",
      "metadata": {
        "colab_type": "text",
        "id": "view-in-github"
      },
      "source": [
        "<a href=\"https://colab.research.google.com/github/UFResearchComputing/gatorAI_summer_camp_2024/blob/main/02_emotion_is_the_key.ipynb\" target=\"_parent\"><img src=\"https://colab.research.google.com/assets/colab-badge.svg\" alt=\"Open In Colab\"/></a> <img src=\"images/gator_ai_camp_2024_logo_200.png\" align=\"right\">"
      ]
    },
    {
      "cell_type": "markdown",
      "metadata": {
        "id": "w6aEky1xEN4a"
      },
      "source": [
        "# Emotion is the key\n",
        "\n",
        "This notebook creates a small program that takes an input of an emotion and outputs the title of a song that matches that emotion.\n",
        "\n",
        "As input data, it links to a Google Sheet with the data collected from a Google Form where users enter songs and artits they associate with different emotions."
      ]
    },
    {
      "cell_type": "code",
      "execution_count": null,
      "metadata": {
        "id": "upAJI8ddVq_9"
      },
      "outputs": [],
      "source": [
        "# Import the necessary libraries\n",
        "import pandas as pd\n"
      ]
    },
    {
      "cell_type": "code",
      "execution_count": null,
      "metadata": {
        "id": "PZJtkvQMVq_9"
      },
      "outputs": [],
      "source": [
        "# The ID of the Google Sheet and the gid of the worksheet\n",
        "sheet_id = \"1A8YVKxvEnF9OFdePQqdyBwzUG_o0n-WmJPprzdz74JU\"\n",
        "worksheet_gid = \"1445035333\"\n",
        "\n",
        "# Construct the URL to download the Google Sheet as a CSV file\n",
        "url = f\"https://docs.google.com/spreadsheets/d/{sheet_id}/export?format=csv&gid={worksheet_gid}\"\n",
        "\n",
        "# Download the Google Sheet as a CSV file\n",
        "df = pd.read_csv(url)\n",
        "\n",
        "# Save the DataFrame as a CSV file in the current directory\n",
        "df.to_csv(\"output.csv\", index=False)"
      ]
    },
    {
      "cell_type": "code",
      "execution_count": null,
      "metadata": {
        "id": "UXFqbyEUVq_9"
      },
      "outputs": [],
      "source": [
        "df.head()"
      ]
    },
    {
      "cell_type": "code",
      "execution_count": null,
      "metadata": {
        "id": "dhKaf4OCVq_9"
      },
      "outputs": [],
      "source": [
        "# Drop the first column of the DataFrame\n",
        "\n",
        "df = df.drop(columns=[\"Timestamp\"])\n",
        "\n",
        "df.head()"
      ]
    },
    {
      "cell_type": "code",
      "execution_count": null,
      "metadata": {
        "id": "oPdRiNL7Vq_9"
      },
      "outputs": [],
      "source": [
        "# Replace Column Header Names with simpler names\n",
        "df.columns = ['Angry', 'Angry_Artist',\n",
        "              'Fear', 'Fear_Artist',\n",
        "              'Happy', 'Happy_Artist',\n",
        "              'Neutral', 'Neutral_Artist',\n",
        "              'Sad', 'Sad_Artist',\n",
        "              'Surprise', 'Surprise_Artist',\n",
        "              'Disgust', 'Disgust_Artist'\n",
        "              ]\n",
        "\n",
        "df.head()"
      ]
    },
    {
      "cell_type": "code",
      "execution_count": null,
      "metadata": {
        "id": "hKBrRQMUVq_9"
      },
      "outputs": [],
      "source": [
        "# Create a Function that takes the user input of an emotion and output a\n",
        "# random song title with it's artist that matches that emotion\n",
        "\n",
        "def lookup_song(emotion):\n",
        "    # Format the emotion to have the first letter capitalized\n",
        "    emotion = emotion.capitalize()\n",
        "    if emotion == \"Angry\":\n",
        "        # Get a random song title from the \"Angry\" column\n",
        "        song_title = df[\"Angry\"].sample().values[0]\n",
        "        # Get the artist of the song\n",
        "        artist = df[\"Angry_Artist\"].sample().values[0]\n",
        "        return song_title, artist, emotion\n",
        "    elif emotion == \"Fear\":\n",
        "        # Get a random song title from the \"Fear\" column\n",
        "        song_title = df[\"Fear\"].sample().values[0]\n",
        "        # Get the artist of the song\n",
        "        artist = df[\"Fear_Artist\"].sample().values[0]\n",
        "        return song_title, artist, emotion\n",
        "    elif emotion == \"Happy\":\n",
        "        # Get a random song title from the \"Happy\" column\n",
        "        song_title = df[\"Happy\"].sample().values[0]\n",
        "        # Get the artist of the song\n",
        "        artist = df[\"Happy_Artist\"].sample().values[0]\n",
        "        return song_title, artist, emotion\n",
        "    elif emotion == \"Neutral\":\n",
        "        # Get a random song title from the \"Neutral\" column\n",
        "        song_title = df[\"Neutral\"].sample().values[0]\n",
        "        # Get the artist of the song\n",
        "        artist = df[\"Neutral_Artist\"].sample().values[0]\n",
        "        return song_title, artist, emotion\n",
        "    elif emotion == \"Sad\":\n",
        "        # Get a random song title from the \"Sad\" column\n",
        "        song_title = df[\"Sad\"].sample().values[0]\n",
        "        # Get the artist of the song\n",
        "        artist = df[\"Sad_Artist\"].sample().values[0]\n",
        "        return song_title, artist, emotion\n",
        "    elif emotion == \"Surprise\":\n",
        "        # Get a random song title from the \"Surprise\" column\n",
        "        song_title = df[\"Surprise\"].sample().values[0]\n",
        "        # Get the artist of the song\n",
        "        artist = df[\"Surprise_Artist\"].sample().values[0]\n",
        "        return song_title, artist, emotion\n",
        "    elif emotion == \"Disgust\":\n",
        "        # Get a random song title from the \"Disgust\" column\n",
        "        song_title = df[\"Disgust\"].sample().values[0]\n",
        "        # Get the artist of the song\n",
        "        artist = df[\"Disgust_Artist\"].sample().values[0]\n",
        "        return song_title, artist, emotion\n",
        "    else:\n",
        "        return \"Invalid emotion! Please enter one of the following emotions: Angry, Fear, Happy, Neutral, Sad, Surprise\""
      ]
    },
    {
      "cell_type": "code",
      "execution_count": null,
      "metadata": {
        "id": "r0zmFbL5Vq_-"
      },
      "outputs": [],
      "source": [
        "def emotion_input_test(emotion):\n",
        "    # Test the lookup_song function\n",
        "    song_title, artist, emotion = lookup_song(emotion)\n",
        "    print(f\"The song title that matches the emotion '{emotion}' is: {song_title} by {artist}\")\n",
        "\n",
        "# Test the lookup_song function\n",
        "# emotion_input_test(\"Angry\")"
      ]
    },
    {
      "cell_type": "code",
      "execution_count": null,
      "metadata": {
        "id": "kzq2ZYKHVq_-"
      },
      "outputs": [],
      "source": []
    }
  ],
  "metadata": {
    "colab": {
      "include_colab_link": true,
      "provenance": []
    },
    "kernelspec": {
      "display_name": "base",
      "language": "python",
      "name": "python3"
    },
    "language_info": {
      "codemirror_mode": {
        "name": "ipython",
        "version": 3
      },
      "file_extension": ".py",
      "mimetype": "text/x-python",
      "name": "python",
      "nbconvert_exporter": "python",
      "pygments_lexer": "ipython3",
      "version": "3.11.7"
    }
  },
  "nbformat": 4,
  "nbformat_minor": 0
}
