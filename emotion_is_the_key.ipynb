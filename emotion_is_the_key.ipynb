{
 "cells": [
  {
   "cell_type": "code",
   "execution_count": null,
   "metadata": {},
   "outputs": [],
   "source": [
    "# Make a small program that takes an input of an emotion and outputs the title of a song that matches that emotion."
   ]
  },
  {
   "cell_type": "code",
   "execution_count": null,
   "metadata": {},
   "outputs": [],
   "source": [
    "%pip install gspread\n",
    "\n",
    "%pip install oauth2client"
   ]
  },
  {
   "cell_type": "code",
   "execution_count": null,
   "metadata": {},
   "outputs": [],
   "source": [
    "# Import the necessary libraries\n",
    "import gspread\n",
    "from oauth2client.service_account import ServiceAccountCredentials\n",
    "import random\n",
    "import sys\n",
    "import os\n",
    "import time\n",
    "import webbrowser\n",
    "import pandas as pd\n",
    "import numpy as np\n",
    "import matplotlib.pyplot as plt\n",
    "\n"
   ]
  },
  {
   "cell_type": "code",
   "execution_count": 14,
   "metadata": {},
   "outputs": [],
   "source": [
    "# The ID of the Google Sheet and the gid of the worksheet\n",
    "sheet_id = \"1A8YVKxvEnF9OFdePQqdyBwzUG_o0n-WmJPprzdz74JU\"\n",
    "worksheet_gid = \"1445035333\"\n",
    "\n",
    "# Construct the URL to download the Google Sheet as a CSV file\n",
    "url = f\"https://docs.google.com/spreadsheets/d/{sheet_id}/export?format=csv&gid={worksheet_gid}\"\n",
    "\n",
    "# Download the Google Sheet as a CSV file\n",
    "df = pd.read_csv(url)\n",
    "\n",
    "# Save the DataFrame as a CSV file in the current directory\n",
    "df.to_csv(\"output.csv\", index=False)"
   ]
  },
  {
   "cell_type": "code",
   "execution_count": 15,
   "metadata": {},
   "outputs": [
    {
     "data": {
      "text/html": [
       "<div>\n",
       "<style scoped>\n",
       "    .dataframe tbody tr th:only-of-type {\n",
       "        vertical-align: middle;\n",
       "    }\n",
       "\n",
       "    .dataframe tbody tr th {\n",
       "        vertical-align: top;\n",
       "    }\n",
       "\n",
       "    .dataframe thead th {\n",
       "        text-align: right;\n",
       "    }\n",
       "</style>\n",
       "<table border=\"1\" class=\"dataframe\">\n",
       "  <thead>\n",
       "    <tr style=\"text-align: right;\">\n",
       "      <th></th>\n",
       "      <th>Timestamp</th>\n",
       "      <th>What's a song you think of when you think \"Anger\"?</th>\n",
       "      <th>What's a song you think of when you think \"Happiness\"?</th>\n",
       "    </tr>\n",
       "  </thead>\n",
       "  <tbody>\n",
       "    <tr>\n",
       "      <th>0</th>\n",
       "      <td>5/30/2024 10:20:16</td>\n",
       "      <td>Ham</td>\n",
       "      <td>Hats</td>\n",
       "    </tr>\n",
       "  </tbody>\n",
       "</table>\n",
       "</div>"
      ],
      "text/plain": [
       "            Timestamp What's a song you think of when you think \"Anger\"?  \\\n",
       "0  5/30/2024 10:20:16                                                Ham   \n",
       "\n",
       "  What's a song you think of when you think \"Happiness\"?  \n",
       "0                                               Hats      "
      ]
     },
     "execution_count": 15,
     "metadata": {},
     "output_type": "execute_result"
    }
   ],
   "source": [
    "df.head()"
   ]
  },
  {
   "cell_type": "code",
   "execution_count": 16,
   "metadata": {},
   "outputs": [
    {
     "data": {
      "text/html": [
       "<div>\n",
       "<style scoped>\n",
       "    .dataframe tbody tr th:only-of-type {\n",
       "        vertical-align: middle;\n",
       "    }\n",
       "\n",
       "    .dataframe tbody tr th {\n",
       "        vertical-align: top;\n",
       "    }\n",
       "\n",
       "    .dataframe thead th {\n",
       "        text-align: right;\n",
       "    }\n",
       "</style>\n",
       "<table border=\"1\" class=\"dataframe\">\n",
       "  <thead>\n",
       "    <tr style=\"text-align: right;\">\n",
       "      <th></th>\n",
       "      <th>What's a song you think of when you think \"Anger\"?</th>\n",
       "      <th>What's a song you think of when you think \"Happiness\"?</th>\n",
       "    </tr>\n",
       "  </thead>\n",
       "  <tbody>\n",
       "    <tr>\n",
       "      <th>0</th>\n",
       "      <td>Ham</td>\n",
       "      <td>Hats</td>\n",
       "    </tr>\n",
       "  </tbody>\n",
       "</table>\n",
       "</div>"
      ],
      "text/plain": [
       "  What's a song you think of when you think \"Anger\"?  \\\n",
       "0                                                Ham   \n",
       "\n",
       "  What's a song you think of when you think \"Happiness\"?  \n",
       "0                                               Hats      "
      ]
     },
     "execution_count": 16,
     "metadata": {},
     "output_type": "execute_result"
    }
   ],
   "source": [
    "# Drop the first column of the DataFrame\n",
    "\n",
    "df = df.drop(columns=[\"Timestamp\"])\n",
    "\n",
    "df.head()"
   ]
  },
  {
   "cell_type": "code",
   "execution_count": 24,
   "metadata": {},
   "outputs": [
    {
     "data": {
      "text/html": [
       "<div>\n",
       "<style scoped>\n",
       "    .dataframe tbody tr th:only-of-type {\n",
       "        vertical-align: middle;\n",
       "    }\n",
       "\n",
       "    .dataframe tbody tr th {\n",
       "        vertical-align: top;\n",
       "    }\n",
       "\n",
       "    .dataframe thead th {\n",
       "        text-align: right;\n",
       "    }\n",
       "</style>\n",
       "<table border=\"1\" class=\"dataframe\">\n",
       "  <thead>\n",
       "    <tr style=\"text-align: right;\">\n",
       "      <th></th>\n",
       "      <th>Angry</th>\n",
       "      <th>Happy</th>\n",
       "    </tr>\n",
       "  </thead>\n",
       "  <tbody>\n",
       "    <tr>\n",
       "      <th>0</th>\n",
       "      <td>Ham</td>\n",
       "      <td>Hats</td>\n",
       "    </tr>\n",
       "  </tbody>\n",
       "</table>\n",
       "</div>"
      ],
      "text/plain": [
       "  Angry Happy\n",
       "0   Ham  Hats"
      ]
     },
     "execution_count": 24,
     "metadata": {},
     "output_type": "execute_result"
    }
   ],
   "source": [
    "# Replace Column Header 1 with \"Angry\" and Column Header 2 with \"Happy\"\n",
    "df.columns = [\"Angry\", \"Happy\"]\n",
    "\n",
    "df.head()"
   ]
  },
  {
   "cell_type": "code",
   "execution_count": 29,
   "metadata": {},
   "outputs": [],
   "source": [
    "# Create a Function that takes the user input of an emotion and output a random song title that matches that emotion\n",
    "\n",
    "def get_song_title(emotion):\n",
    "    # Check if the emotion is \"Angry\" or \"Happy\"\n",
    "    emotion = emotion.capitalize()\n",
    "    if emotion == \"Angry\":\n",
    "        # Get a random song title from the \"Angry\" column\n",
    "        song_title = df[\"Angry\"].sample().values[0]\n",
    "        return song_title, emotion\n",
    "    elif emotion == \"Happy\":\n",
    "        # Get a random song title from the \"Happy\" column\n",
    "        song_title = df[\"Happy\"].sample().values[0]\n",
    "        return song_title, emotion\n",
    "    else:\n",
    "        return \"Invalid emotion. Please enter 'Angry' or 'Happy'.\"\n"
   ]
  },
  {
   "cell_type": "code",
   "execution_count": 32,
   "metadata": {},
   "outputs": [
    {
     "name": "stdout",
     "output_type": "stream",
     "text": [
      "The song title that matches the emotion 'Angry' is: Ham\n"
     ]
    }
   ],
   "source": [
    "# Get the user input of an emotion\n",
    "emotion = input(\"Please enter an emotion (right now we only have Angry or Happy!): \")\n",
    "\n",
    "# Get the song title that matches the emotion\n",
    "song_title, emotion = get_song_title(emotion)\n",
    "\n",
    "# Print the song title\n",
    "print(f\"The song title that matches the emotion '{emotion}' is: {song_title}\")"
   ]
  },
  {
   "cell_type": "code",
   "execution_count": null,
   "metadata": {},
   "outputs": [],
   "source": []
  }
 ],
 "metadata": {
  "kernelspec": {
   "display_name": "base",
   "language": "python",
   "name": "python3"
  },
  "language_info": {
   "codemirror_mode": {
    "name": "ipython",
    "version": 3
   },
   "file_extension": ".py",
   "mimetype": "text/x-python",
   "name": "python",
   "nbconvert_exporter": "python",
   "pygments_lexer": "ipython3",
   "version": "3.10.9"
  }
 },
 "nbformat": 4,
 "nbformat_minor": 2
}
