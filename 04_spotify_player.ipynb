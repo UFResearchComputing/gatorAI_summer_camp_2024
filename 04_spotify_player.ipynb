{
  "cells": [
    {
      "cell_type": "markdown",
      "metadata": {
        "id": "view-in-github",
        "colab_type": "text"
      },
      "source": [
        "<a href=\"https://colab.research.google.com/github/UFResearchComputing/gatorAI_summer_camp_2024/blob/main/04_spotify_player.ipynb\" target=\"_parent\"><img src=\"https://colab.research.google.com/assets/colab-badge.svg\" alt=\"Open In Colab\"/></a>"
      ]
    },
    {
      "cell_type": "markdown",
      "metadata": {
        "id": "uEtShgOwDmvw"
      },
      "source": [
        "# Spotify Song Player\n",
        "\n",
        "This notebook authenticates with Spotify and handles the playback of a song."
      ]
    },
    {
      "cell_type": "code",
      "execution_count": 1,
      "metadata": {
        "id": "XeUixVvgAknU",
        "outputId": "c9e6d0c0-f134-4eec-c9e6-1d5958e2e5ba",
        "colab": {
          "base_uri": "https://localhost:8080/"
        }
      },
      "outputs": [
        {
          "output_type": "stream",
          "name": "stdout",
          "text": [
            "Collecting spotipy\n",
            "  Downloading spotipy-2.24.0-py3-none-any.whl (30 kB)\n",
            "Collecting redis>=3.5.3 (from spotipy)\n",
            "  Downloading redis-5.0.7-py3-none-any.whl (252 kB)\n",
            "\u001b[2K     \u001b[90m━━━━━━━━━━━━━━━━━━━━━━━━━━━━━━━━━━━━━━━━\u001b[0m \u001b[32m252.1/252.1 kB\u001b[0m \u001b[31m6.9 MB/s\u001b[0m eta \u001b[36m0:00:00\u001b[0m\n",
            "\u001b[?25hRequirement already satisfied: requests>=2.25.0 in /usr/local/lib/python3.10/dist-packages (from spotipy) (2.31.0)\n",
            "Requirement already satisfied: urllib3>=1.26.0 in /usr/local/lib/python3.10/dist-packages (from spotipy) (2.0.7)\n",
            "Requirement already satisfied: async-timeout>=4.0.3 in /usr/local/lib/python3.10/dist-packages (from redis>=3.5.3->spotipy) (4.0.3)\n",
            "Requirement already satisfied: charset-normalizer<4,>=2 in /usr/local/lib/python3.10/dist-packages (from requests>=2.25.0->spotipy) (3.3.2)\n",
            "Requirement already satisfied: idna<4,>=2.5 in /usr/local/lib/python3.10/dist-packages (from requests>=2.25.0->spotipy) (3.7)\n",
            "Requirement already satisfied: certifi>=2017.4.17 in /usr/local/lib/python3.10/dist-packages (from requests>=2.25.0->spotipy) (2024.7.4)\n",
            "Installing collected packages: redis, spotipy\n",
            "Successfully installed redis-5.0.7 spotipy-2.24.0\n"
          ]
        }
      ],
      "source": [
        "!pip install spotipy"
      ]
    },
    {
      "cell_type": "code",
      "execution_count": 2,
      "metadata": {
        "id": "tQnWyM7XAUD4"
      },
      "outputs": [],
      "source": [
        "# Import the necessary libraries\n",
        "import spotipy\n",
        "from spotipy.oauth2 import SpotifyOAuth\n",
        "\n",
        "# Used to load Google Credentials\n",
        "from google.colab import userdata"
      ]
    },
    {
      "cell_type": "code",
      "execution_count": 3,
      "metadata": {
        "id": "2lxxk3ifAUD4",
        "outputId": "3d87f23a-bed9-456e-9024-2ca7070b98bb",
        "colab": {
          "base_uri": "https://localhost:8080/"
        }
      },
      "outputs": [
        {
          "name": "stdout",
          "output_type": "stream",
          "text": [
            "Please visit this URL to authorize your application: https://accounts.spotify.com/authorize?client_id=34452d07a7e84f8b80fa28897232e850&response_type=code&redirect_uri=https%3A%2F%2Flocalhost%3A8888%2Fcallback&scope=user-modify-playback-state+user-read-playback-state\n",
            "Enter the authorization code: AQAirRU6lThI0asFYqMe8AU-eR-tTISbTah61KN1WgytxPXSQKHJ0zExqBdLOjv5VCvdAZ9yzODUy7exq_wSA287wTaUGWrNti08EMOp4FfP070JI98kX41H0SgJ2dSG6DkoV4PGO9iRu4F9G7tofezA7a6lP7zI3FGduWR_J6HSsUUr7oEOdezNW3zQpt5h5ZTFCvcf6XBRSj4WFajOD6mVSaDdKfdiYjcaghW8Q8fbxlHK972wf2o\n"
          ]
        },
        {
          "output_type": "stream",
          "name": "stderr",
          "text": [
            "<ipython-input-3-88a8dc459312>:21: DeprecationWarning: You're using 'as_dict = True'.get_access_token will return the token string directly in future versions. Please adjust your code accordingly, or use get_cached_token instead.\n",
            "  token_info = sp_oauth.get_access_token(auth_code)\n"
          ]
        }
      ],
      "source": [
        "# Set up Spotipy (Replace with your actual credentials and redirect URI)\n",
        "client_id = userdata.get('client_id')\n",
        "client_secret = userdata.get('client_secret')\n",
        "\n",
        "redirect_uri = 'https://localhost:8888/callback'  # Or any suitable redirect URI\n",
        "\n",
        "scope = \"user-modify-playback-state user-read-playback-state\"  # Request permission to control playback\n",
        "\n",
        "# Create SpotifyOAuth object\n",
        "sp_oauth = SpotifyOAuth(client_id=client_id, client_secret=client_secret,\n",
        "                        redirect_uri=redirect_uri, scope=scope, cache_path=None)\n",
        "\n",
        "# Get authorization URL and prompt the user to authorize\n",
        "auth_url = sp_oauth.get_authorize_url()\n",
        "print(\"Please visit this URL to authorize your application:\", auth_url)\n",
        "\n",
        "# Get authorization code from the user (You'll need a way to capture this)\n",
        "auth_code = input(\"Enter the authorization code: \")\n",
        "\n",
        "# Get access token\n",
        "token_info = sp_oauth.get_access_token(auth_code)\n",
        "access_token = token_info['access_token']\n",
        "\n",
        "# Create Spotify object with the access token\n",
        "spotify = spotipy.Spotify(auth=access_token)"
      ]
    },
    {
      "cell_type": "code",
      "execution_count": 9,
      "metadata": {
        "id": "lcas1oKFAUD5"
      },
      "outputs": [],
      "source": [
        "# Get the active device list\n",
        "devices = spotify.devices()\n",
        "\n",
        "def play_song(track_uri):\n",
        "    if not devices['devices']:\n",
        "        print(\"No active devices found. Please make sure Spotify is running on one of your devices.\")\n",
        "    else:\n",
        "        # Select the first active device\n",
        "        device_id = devices['devices'][0]['id']\n",
        "        device_name = devices['devices'][0]['name']\n",
        "        print(f\"Using device: {device_name} with ID {device_id}\")\n",
        "\n",
        "        # Get the URI of the song you want to play\n",
        "        uri = track_uri\n",
        "\n",
        "        # Play the song on the selected device\n",
        "        spotify.start_playback(device_id=device_id, uris=[uri])\n",
        "        print(f\"Started playback on {device_name}\")\n",
        "\n",
        "# Example usage\n",
        "# play_song(\"spotify:track:3AFpIlNR4DEJ1WC7qyOHU8\")  # Play 'Affection' by Crystal Castles"
      ]
    },
    {
      "cell_type": "code",
      "execution_count": 10,
      "metadata": {
        "id": "sth7gqUJDRWZ",
        "outputId": "423f942d-e04c-4eb9-ff3d-80df3e5143ae",
        "colab": {
          "base_uri": "https://localhost:8080/"
        }
      },
      "outputs": [
        {
          "output_type": "stream",
          "name": "stdout",
          "text": [
            "Using device: Web Player (Chrome) with ID e108f9686c62d49541e08ab24c997ca6b89b35ab\n",
            "Started playback on Web Player (Chrome)\n"
          ]
        }
      ],
      "source": [
        "play_song(\"spotify:track:3AFpIlNR4DEJ1WC7qyOHU8\")"
      ]
    },
    {
      "cell_type": "code",
      "source": [
        "def get_song_uri(song_name, artist_name):\n",
        "  results = spotify.search(q=f'track:{song_name} artist:{artist_name}', type='track')\n",
        "  if results['tracks']['items']:\n",
        "    return results['tracks']['items'][0]['uri']\n",
        "  else:\n",
        "    return None\n"
      ],
      "metadata": {
        "id": "RgLw_OEYN1SQ"
      },
      "execution_count": 11,
      "outputs": []
    },
    {
      "cell_type": "code",
      "source": [
        "get_song_uri(\"Happy\", \"Pharrel Williams\")"
      ],
      "metadata": {
        "id": "Pozslab4PdOj",
        "outputId": "a07f0568-c46e-4a91-ce35-34684c83c5a8",
        "colab": {
          "base_uri": "https://localhost:8080/",
          "height": 35
        }
      },
      "execution_count": 12,
      "outputs": [
        {
          "output_type": "execute_result",
          "data": {
            "text/plain": [
              "'spotify:track:60nZcImufyMA1MKQY3dcCH'"
            ],
            "application/vnd.google.colaboratory.intrinsic+json": {
              "type": "string"
            }
          },
          "metadata": {},
          "execution_count": 12
        }
      ]
    },
    {
      "cell_type": "code",
      "source": [],
      "metadata": {
        "id": "-f4jyG9vPjvN"
      },
      "execution_count": null,
      "outputs": []
    }
  ],
  "metadata": {
    "colab": {
      "provenance": [],
      "include_colab_link": true
    },
    "kernelspec": {
      "display_name": "base",
      "language": "python",
      "name": "python3"
    },
    "language_info": {
      "codemirror_mode": {
        "name": "ipython",
        "version": 3
      },
      "file_extension": ".py",
      "mimetype": "text/x-python",
      "name": "python",
      "nbconvert_exporter": "python",
      "pygments_lexer": "ipython3",
      "version": "3.11.7"
    }
  },
  "nbformat": 4,
  "nbformat_minor": 0
}