{
  "cells": [
    {
      "cell_type": "markdown",
      "metadata": {
        "colab_type": "text",
        "id": "view-in-github"
      },
      "source": [
        "<a href=\"https://colab.research.google.com/github/UFResearchComputing/gatorAI_summer_camp_2024/blob/main/04_spotify_player.ipynb\" target=\"_parent\"><img src=\"https://colab.research.google.com/assets/colab-badge.svg\" alt=\"Open In Colab\"/></a> <img src=\"images/gator_ai_camp_2024_logo_200.png\" align=\"right\">"
      ]
    },
    {
      "cell_type": "markdown",
      "metadata": {
        "id": "uEtShgOwDmvw"
      },
      "source": [
        "# Spotify Song Player\n",
        "\n",
        "This notebook authenticates with Spotify and handles the playback of a song."
      ]
    },
    {
      "cell_type": "code",
      "execution_count": null,
      "metadata": {
        "id": "XeUixVvgAknU"
      },
      "outputs": [],
      "source": [
        "!pip install spotipy"
      ]
    },
    {
      "cell_type": "code",
      "execution_count": null,
      "metadata": {
        "id": "tQnWyM7XAUD4"
      },
      "outputs": [],
      "source": [
        "# Import the necessary libraries\n",
        "import spotipy\n",
        "from spotipy.oauth2 import SpotifyOAuth\n",
        "\n",
        "# Used to load Google Credentials\n",
        "from google.colab import userdata"
      ]
    },
    {
      "cell_type": "code",
      "execution_count": null,
      "metadata": {
        "id": "2lxxk3ifAUD4"
      },
      "outputs": [],
      "source": [
        "# Set up Spotipy (Replace with your actual credentials and redirect URI)\n",
        "client_id = userdata.get('client_id')\n",
        "client_secret = userdata.get('client_secret')\n",
        "\n",
        "redirect_uri = 'https://localhost:8888/callback'  # Or any suitable redirect URI\n",
        "\n",
        "scope = \"user-modify-playback-state user-read-playback-state\"  # Request permission to control playback\n",
        "\n",
        "# Create SpotifyOAuth object\n",
        "sp_oauth = SpotifyOAuth(client_id=client_id, client_secret=client_secret,\n",
        "                        redirect_uri=redirect_uri, scope=scope, cache_path=None)\n",
        "\n",
        "# Get authorization URL and prompt the user to authorize\n",
        "auth_url = sp_oauth.get_authorize_url()\n",
        "print(\"Please visit this URL to authorize your application:\", auth_url)\n",
        "\n",
        "# Get authorization code from the user (You'll need a way to capture this)\n",
        "auth_code = input(\"Enter the authorization code: \")\n",
        "\n",
        "# Get access token\n",
        "token_info = sp_oauth.get_access_token(auth_code)\n",
        "access_token = token_info['access_token']\n",
        "\n",
        "# Create Spotify object with the access token\n",
        "spotify = spotipy.Spotify(auth=access_token)"
      ]
    },
    {
      "cell_type": "code",
      "execution_count": null,
      "metadata": {
        "id": "lcas1oKFAUD5"
      },
      "outputs": [],
      "source": [
        "# Get the active device list\n",
        "devices = spotify.devices()\n",
        "\n",
        "def play_song(track_uri):\n",
        "    if not devices['devices']:\n",
        "        print(\"No active devices found. Please make sure Spotify is running on one of your devices.\")\n",
        "    else:\n",
        "        # Select the first active device\n",
        "        device_id = devices['devices'][0]['id']\n",
        "        device_name = devices['devices'][0]['name']\n",
        "        print(f\"Using device: {device_name} with ID {device_id}\")\n",
        "\n",
        "        # Get the URI of the song you want to play\n",
        "        uri = track_uri\n",
        "\n",
        "        # Play the song on the selected device\n",
        "        spotify.start_playback(device_id=device_id, uris=[uri])\n",
        "        print(f\"Started playback on {device_name}\")\n",
        "\n",
        "# Example usage\n",
        "# play_song(\"spotify:track:3AFpIlNR4DEJ1WC7qyOHU8\")  # Play 'Affection' by Crystal Castles"
      ]
    },
    {
      "cell_type": "code",
      "execution_count": null,
      "metadata": {
        "id": "sth7gqUJDRWZ"
      },
      "outputs": [],
      "source": [
        "play_song(\"spotify:track:3AFpIlNR4DEJ1WC7qyOHU8\")"
      ]
    }
  ],
  "metadata": {
    "colab": {
      "include_colab_link": true,
      "provenance": []
    },
    "kernelspec": {
      "display_name": "base",
      "language": "python",
      "name": "python3"
    },
    "language_info": {
      "codemirror_mode": {
        "name": "ipython",
        "version": 3
      },
      "file_extension": ".py",
      "mimetype": "text/x-python",
      "name": "python",
      "nbconvert_exporter": "python",
      "pygments_lexer": "ipython3",
      "version": "3.11.7"
    }
  },
  "nbformat": 4,
  "nbformat_minor": 0
}
