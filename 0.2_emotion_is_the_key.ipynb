{
 "cells": [
  {
   "cell_type": "code",
   "execution_count": null,
   "metadata": {},
   "outputs": [],
   "source": [
    "# Make a small program that takes an input of an emotion and outputs the title of a song that matches that emotion."
   ]
  },
  {
   "cell_type": "code",
   "execution_count": 1,
   "metadata": {},
   "outputs": [],
   "source": [
    "# Import the necessary libraries\n",
    "import pandas as pd\n"
   ]
  },
  {
   "cell_type": "code",
   "execution_count": 2,
   "metadata": {},
   "outputs": [],
   "source": [
    "# The ID of the Google Sheet and the gid of the worksheet\n",
    "sheet_id = \"1A8YVKxvEnF9OFdePQqdyBwzUG_o0n-WmJPprzdz74JU\"\n",
    "worksheet_gid = \"1445035333\"\n",
    "\n",
    "# Construct the URL to download the Google Sheet as a CSV file\n",
    "url = f\"https://docs.google.com/spreadsheets/d/{sheet_id}/export?format=csv&gid={worksheet_gid}\"\n",
    "\n",
    "# Download the Google Sheet as a CSV file\n",
    "df = pd.read_csv(url)\n",
    "\n",
    "# Save the DataFrame as a CSV file in the current directory\n",
    "df.to_csv(\"music_key.csv\", index=False)"
   ]
  },
  {
   "cell_type": "code",
   "execution_count": 3,
   "metadata": {},
   "outputs": [
    {
     "data": {
      "text/html": [
       "<div>\n",
       "<style scoped>\n",
       "    .dataframe tbody tr th:only-of-type {\n",
       "        vertical-align: middle;\n",
       "    }\n",
       "\n",
       "    .dataframe tbody tr th {\n",
       "        vertical-align: top;\n",
       "    }\n",
       "\n",
       "    .dataframe thead th {\n",
       "        text-align: right;\n",
       "    }\n",
       "</style>\n",
       "<table border=\"1\" class=\"dataframe\">\n",
       "  <thead>\n",
       "    <tr style=\"text-align: right;\">\n",
       "      <th></th>\n",
       "      <th>Timestamp</th>\n",
       "      <th>What's a song you think of when you think \"Angry\"?</th>\n",
       "      <th>What's a song you think of when you think \"Fear\"?</th>\n",
       "      <th>What's a song you think of when you think \"Happy\"?</th>\n",
       "      <th>What's a song you think of when you think \"A Little Bored\"?</th>\n",
       "      <th>What's a song you think of when you think \"Sad\"?</th>\n",
       "      <th>What's a song you think of when you think \"Surprise\"?</th>\n",
       "    </tr>\n",
       "  </thead>\n",
       "  <tbody>\n",
       "    <tr>\n",
       "      <th>0</th>\n",
       "      <td>5/30/2024 10:20:16</td>\n",
       "      <td>Ham</td>\n",
       "      <td>NaN</td>\n",
       "      <td>Hats</td>\n",
       "      <td>NaN</td>\n",
       "      <td>NaN</td>\n",
       "      <td>NaN</td>\n",
       "    </tr>\n",
       "    <tr>\n",
       "      <th>1</th>\n",
       "      <td>5/31/2024 10:20:16</td>\n",
       "      <td>Angry Song</td>\n",
       "      <td>Fear Song</td>\n",
       "      <td>Happy Song</td>\n",
       "      <td>Neutral Song</td>\n",
       "      <td>Sad Song</td>\n",
       "      <td>Surprise Song</td>\n",
       "    </tr>\n",
       "  </tbody>\n",
       "</table>\n",
       "</div>"
      ],
      "text/plain": [
       "            Timestamp What's a song you think of when you think \"Angry\"?  \\\n",
       "0  5/30/2024 10:20:16                                                Ham   \n",
       "1  5/31/2024 10:20:16                                         Angry Song   \n",
       "\n",
       "  What's a song you think of when you think \"Fear\"?  \\\n",
       "0                                               NaN   \n",
       "1                                         Fear Song   \n",
       "\n",
       "  What's a song you think of when you think \"Happy\"?  \\\n",
       "0                                               Hats   \n",
       "1                                         Happy Song   \n",
       "\n",
       "  What's a song you think of when you think \"A Little Bored\"?  \\\n",
       "0                                                NaN            \n",
       "1                                       Neutral Song            \n",
       "\n",
       "  What's a song you think of when you think \"Sad\"?  \\\n",
       "0                                              NaN   \n",
       "1                                         Sad Song   \n",
       "\n",
       "  What's a song you think of when you think \"Surprise\"?  \n",
       "0                                                NaN     \n",
       "1                                      Surprise Song     "
      ]
     },
     "execution_count": 3,
     "metadata": {},
     "output_type": "execute_result"
    }
   ],
   "source": [
    "df.head()"
   ]
  },
  {
   "cell_type": "code",
   "execution_count": 4,
   "metadata": {},
   "outputs": [
    {
     "data": {
      "text/html": [
       "<div>\n",
       "<style scoped>\n",
       "    .dataframe tbody tr th:only-of-type {\n",
       "        vertical-align: middle;\n",
       "    }\n",
       "\n",
       "    .dataframe tbody tr th {\n",
       "        vertical-align: top;\n",
       "    }\n",
       "\n",
       "    .dataframe thead th {\n",
       "        text-align: right;\n",
       "    }\n",
       "</style>\n",
       "<table border=\"1\" class=\"dataframe\">\n",
       "  <thead>\n",
       "    <tr style=\"text-align: right;\">\n",
       "      <th></th>\n",
       "      <th>What's a song you think of when you think \"Angry\"?</th>\n",
       "      <th>What's a song you think of when you think \"Fear\"?</th>\n",
       "      <th>What's a song you think of when you think \"Happy\"?</th>\n",
       "      <th>What's a song you think of when you think \"A Little Bored\"?</th>\n",
       "      <th>What's a song you think of when you think \"Sad\"?</th>\n",
       "      <th>What's a song you think of when you think \"Surprise\"?</th>\n",
       "    </tr>\n",
       "  </thead>\n",
       "  <tbody>\n",
       "    <tr>\n",
       "      <th>0</th>\n",
       "      <td>Ham</td>\n",
       "      <td>NaN</td>\n",
       "      <td>Hats</td>\n",
       "      <td>NaN</td>\n",
       "      <td>NaN</td>\n",
       "      <td>NaN</td>\n",
       "    </tr>\n",
       "    <tr>\n",
       "      <th>1</th>\n",
       "      <td>Angry Song</td>\n",
       "      <td>Fear Song</td>\n",
       "      <td>Happy Song</td>\n",
       "      <td>Neutral Song</td>\n",
       "      <td>Sad Song</td>\n",
       "      <td>Surprise Song</td>\n",
       "    </tr>\n",
       "  </tbody>\n",
       "</table>\n",
       "</div>"
      ],
      "text/plain": [
       "  What's a song you think of when you think \"Angry\"?  \\\n",
       "0                                                Ham   \n",
       "1                                         Angry Song   \n",
       "\n",
       "  What's a song you think of when you think \"Fear\"?  \\\n",
       "0                                               NaN   \n",
       "1                                         Fear Song   \n",
       "\n",
       "  What's a song you think of when you think \"Happy\"?  \\\n",
       "0                                               Hats   \n",
       "1                                         Happy Song   \n",
       "\n",
       "  What's a song you think of when you think \"A Little Bored\"?  \\\n",
       "0                                                NaN            \n",
       "1                                       Neutral Song            \n",
       "\n",
       "  What's a song you think of when you think \"Sad\"?  \\\n",
       "0                                              NaN   \n",
       "1                                         Sad Song   \n",
       "\n",
       "  What's a song you think of when you think \"Surprise\"?  \n",
       "0                                                NaN     \n",
       "1                                      Surprise Song     "
      ]
     },
     "execution_count": 4,
     "metadata": {},
     "output_type": "execute_result"
    }
   ],
   "source": [
    "# Drop the first column of the DataFrame\n",
    "\n",
    "df = df.drop(columns=[\"Timestamp\"])\n",
    "\n",
    "df.head()"
   ]
  },
  {
   "cell_type": "code",
   "execution_count": 5,
   "metadata": {},
   "outputs": [
    {
     "data": {
      "text/html": [
       "<div>\n",
       "<style scoped>\n",
       "    .dataframe tbody tr th:only-of-type {\n",
       "        vertical-align: middle;\n",
       "    }\n",
       "\n",
       "    .dataframe tbody tr th {\n",
       "        vertical-align: top;\n",
       "    }\n",
       "\n",
       "    .dataframe thead th {\n",
       "        text-align: right;\n",
       "    }\n",
       "</style>\n",
       "<table border=\"1\" class=\"dataframe\">\n",
       "  <thead>\n",
       "    <tr style=\"text-align: right;\">\n",
       "      <th></th>\n",
       "      <th>Angry</th>\n",
       "      <th>Fear</th>\n",
       "      <th>Happy</th>\n",
       "      <th>Neutral</th>\n",
       "      <th>Sad</th>\n",
       "      <th>Surprise</th>\n",
       "    </tr>\n",
       "  </thead>\n",
       "  <tbody>\n",
       "    <tr>\n",
       "      <th>0</th>\n",
       "      <td>Ham</td>\n",
       "      <td>NaN</td>\n",
       "      <td>Hats</td>\n",
       "      <td>NaN</td>\n",
       "      <td>NaN</td>\n",
       "      <td>NaN</td>\n",
       "    </tr>\n",
       "    <tr>\n",
       "      <th>1</th>\n",
       "      <td>Angry Song</td>\n",
       "      <td>Fear Song</td>\n",
       "      <td>Happy Song</td>\n",
       "      <td>Neutral Song</td>\n",
       "      <td>Sad Song</td>\n",
       "      <td>Surprise Song</td>\n",
       "    </tr>\n",
       "  </tbody>\n",
       "</table>\n",
       "</div>"
      ],
      "text/plain": [
       "        Angry       Fear       Happy       Neutral       Sad       Surprise\n",
       "0         Ham        NaN        Hats           NaN       NaN            NaN\n",
       "1  Angry Song  Fear Song  Happy Song  Neutral Song  Sad Song  Surprise Song"
      ]
     },
     "execution_count": 5,
     "metadata": {},
     "output_type": "execute_result"
    }
   ],
   "source": [
    "# Replace Column Header 1 with \"Angry\" and Column Header 2 with \"Happy\"\n",
    "df.columns = ['Angry', 'Fear', 'Happy', 'Neutral', 'Sad', 'Surprise']\n",
    "\n",
    "df.head()"
   ]
  },
  {
   "cell_type": "code",
   "execution_count": 6,
   "metadata": {},
   "outputs": [],
   "source": [
    "# Create a Function that takes the user input of an emotion and output a random song title that matches that emotion\n",
    "\n",
    "def get_song_title(emotion):\n",
    "    # Check if the emotion is \"Angry\" or \"Happy\"\n",
    "    emotion = emotion.capitalize()\n",
    "    if emotion == \"Angry\":\n",
    "        # Get a random song title from the \"Angry\" column\n",
    "        song_title = df[\"Angry\"].sample().values[0]\n",
    "        return song_title, emotion\n",
    "    elif emotion == \"Fear\":\n",
    "        # Get a random song title from the \"Fear\" column\n",
    "        song_title = df[\"Fear\"].sample().values[0]\n",
    "        return song_title, emotion\n",
    "    elif emotion == \"Happy\":\n",
    "        # Get a random song title from the \"Happy\" column\n",
    "        song_title = df[\"Happy\"].sample().values[0]\n",
    "        return song_title, emotion\n",
    "    elif emotion == \"Neutral\":\n",
    "        # Get a random song title from the \"Neutral\" column\n",
    "        song_title = df[\"Neutral\"].sample().values[0]\n",
    "        return song_title, emotion\n",
    "    elif emotion == \"Sad\":\n",
    "        # Get a random song title from the \"Sad\" column\n",
    "        song_title = df[\"Sad\"].sample().values[0]\n",
    "        return song_title, emotion\n",
    "    elif emotion == \"Surprise\":\n",
    "        # Get a random song title from the \"Surprise\" column\n",
    "        song_title = df[\"Surprise\"].sample().values[0]\n",
    "        return song_title, emotion\n",
    "    else:\n",
    "        return \"Invalid emotion! Please enter one of the following emotions: Angry, Fear, Happy, Neutral, Sad, Surprise\"\n"
   ]
  },
  {
   "cell_type": "code",
   "execution_count": 8,
   "metadata": {},
   "outputs": [
    {
     "name": "stdout",
     "output_type": "stream",
     "text": [
      "The song title that matches the emotion 'Fear' is: nan\n"
     ]
    }
   ],
   "source": [
    "# Get the user input of an emotion\n",
    "emotion = input(\"Please enter an emotion: \")\n",
    "\n",
    "# Get the song title that matches the emotion\n",
    "song_title, emotion = get_song_title(emotion)\n",
    "\n",
    "# Print the song title\n",
    "print(f\"The song title that matches the emotion '{emotion}' is: {song_title}\")"
   ]
  },
  {
   "cell_type": "code",
   "execution_count": null,
   "metadata": {},
   "outputs": [],
   "source": []
  }
 ],
 "metadata": {
  "kernelspec": {
   "display_name": "base",
   "language": "python",
   "name": "python3"
  },
  "language_info": {
   "codemirror_mode": {
    "name": "ipython",
    "version": 3
   },
   "file_extension": ".py",
   "mimetype": "text/x-python",
   "name": "python",
   "nbconvert_exporter": "python",
   "pygments_lexer": "ipython3",
   "version": "3.10.9"
  }
 },
 "nbformat": 4,
 "nbformat_minor": 2
}
