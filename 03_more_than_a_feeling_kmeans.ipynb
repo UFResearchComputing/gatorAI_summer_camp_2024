{
  "cells": [
    {
      "cell_type": "markdown",
      "metadata": {
        "colab_type": "text",
        "id": "view-in-github"
      },
      "source": [
        "<a href=\"https://colab.research.google.com/github/UFResearchComputing/gatorAI_summer_camp_2024/blob/main/03_more_than_a_feeling_kmeans.ipynb\" target=\"_parent\"></a> <img src=\"https://colab.research.google.com/assets/colab-badge.svg\" alt=\"Open In Colab\"/></a><img src=\"images/gator_ai_camp_2024_logo_200.png\" align=\"right\">"
      ]
    },
    {
      "cell_type": "markdown",
      "metadata": {
        "id": "kF2KCeWpInIz"
      },
      "source": [
        "# More Than a Feeling: K-Means\n",
        "\n",
        "This notebook introduces unsupervised learning and clustering methods. It created clusters of songs based on Spotify features like dancability and popularity."
      ]
    },
    {
      "cell_type": "code",
      "execution_count": null,
      "metadata": {
        "id": "V2EJWIXaZg_T"
      },
      "outputs": [],
      "source": [
        "!pip install spotipy"
      ]
    },
    {
      "cell_type": "code",
      "execution_count": null,
      "metadata": {
        "id": "sg1e-dKuZYT6"
      },
      "outputs": [],
      "source": [
        "# Import Libraries\n",
        "import os\n",
        "import sys\n",
        "import time\n",
        "import numpy as np\n",
        "import pandas as pd\n",
        "import matplotlib.pyplot as plt\n",
        "%matplotlib inline\n",
        "\n",
        "# Import Libraries for Unsupervised Learning on Tabular Data\n",
        "from sklearn.cluster import KMeans\n",
        "from sklearn.decomposition import PCA\n",
        "from sklearn.preprocessing import StandardScaler # Standardize features by removing the mean and scaling to unit variance\n",
        "from sklearn.pipeline import make_pipeline\n",
        "\n",
        "# Used to load Google Credentials\n",
        "from google.colab import userdata\n",
        "#import spot_creds\n",
        "import spotipy"
      ]
    },
    {
      "cell_type": "code",
      "execution_count": null,
      "metadata": {
        "id": "Qyxt1OSJZ583"
      },
      "outputs": [],
      "source": [
        "# Download the data from Kaggle and unzip into the data folder\n",
        "\n",
        "!kaggle datasets download -d tomigelo/spotify-audio-features\n",
        "!mkdir data\n",
        "!unzip spotify-audio-features.zip -d data"
      ]
    },
    {
      "cell_type": "code",
      "execution_count": null,
      "metadata": {
        "id": "vwN68l_jZYT8"
      },
      "outputs": [],
      "source": [
        "# Create a function to load the data from two csv files and concatenate them\n",
        "def load_data():\n",
        "    # Load the data from the two csv files\n",
        "    data1 = pd.read_csv('data/SpotifyAudioFeaturesApril2019.csv')\n",
        "    data2 = pd.read_csv('data/SpotifyAudioFeaturesNov2018.csv')\n",
        "    # Concatenate the two dataframes\n",
        "    data = pd.concat([data1, data2], axis=0)\n",
        "    return data\n",
        "\n",
        "df = load_data()\n",
        "df.head()\n",
        "\n"
      ]
    },
    {
      "cell_type": "code",
      "execution_count": null,
      "metadata": {
        "id": "FZMrR6_1ZYT9"
      },
      "outputs": [],
      "source": [
        "# Preprocess the data\n",
        "def preprocess_data(df):\n",
        "    df = df.dropna()\n",
        "    numeric_df = df.drop(['track_id', 'track_name', 'artist_name'], axis=1)\n",
        "    scaler = StandardScaler()\n",
        "    pp_df = scaler.fit_transform(numeric_df)\n",
        "    return pp_df, df, scaler\n",
        "\n",
        "pp_df, original_df, scaler = preprocess_data(df)\n",
        "\n",
        "# Fit the KMeans model\n",
        "def fit_kmeans(df, n_clusters):\n",
        "    model = KMeans(n_clusters=n_clusters)\n",
        "    model.fit(df)\n",
        "    return model\n",
        "\n",
        "model = fit_kmeans(pp_df, 10)\n"
      ]
    },
    {
      "cell_type": "code",
      "execution_count": null,
      "metadata": {
        "id": "6xMHoM5QZYT9"
      },
      "outputs": [],
      "source": [
        "# Visualize the clusters\n",
        "def visualize_clusters(df, model):\n",
        "    pca = PCA(n_components=2)\n",
        "    pc = pca.fit_transform(df)\n",
        "    plt.scatter(pc[:, 0], pc[:, 1], c=model.labels_)\n",
        "    plt.xlabel('First Principal Component')\n",
        "    plt.ylabel('Second Principal Component')\n",
        "    plt.title('KMeans Clusters')\n",
        "    plt.show()\n",
        "\n",
        "visualize_clusters(pp_df, model)"
      ]
    },
    {
      "cell_type": "code",
      "execution_count": null,
      "metadata": {
        "id": "mdxMIZdWZYT9"
      },
      "outputs": [],
      "source": [
        "# Show a sample of songs from each cluster\n",
        "def show_cluster_samples(df, model, n_samples):\n",
        "    df['cluster'] = model.labels_\n",
        "    for cluster in range(model.n_clusters):\n",
        "        print(f'Cluster {cluster}:')\n",
        "        sample = df[df['cluster'] == cluster].sample(n=n_samples)\n",
        "        print(sample[['track_name', 'artist_name', 'popularity']])\n",
        "        print('\\n')\n",
        "\n",
        "show_cluster_samples(original_df, model, 3)\n"
      ]
    },
    {
      "cell_type": "code",
      "execution_count": null,
      "metadata": {
        "id": "EVFaJxUnZYT9"
      },
      "outputs": [],
      "source": [
        "# Visualize clusters with most popular songs\n",
        "def visualize_clusters_with_songs(df, original_df, model):\n",
        "    pca = PCA(n_components=2)\n",
        "    pc = pca.fit_transform(df)\n",
        "    plt.scatter(pc[:, 0], pc[:, 1], c=model.labels_)\n",
        "    plt.xlabel('First Principal Component')\n",
        "    plt.ylabel('Second Principal Component')\n",
        "    plt.title('KMeans Clusters')\n",
        "    for cluster in range(model.n_clusters):\n",
        "        cluster_indices = np.where(model.labels_ == cluster)[0]\n",
        "        cluster_center = pc[cluster_indices].mean(axis=0)\n",
        "        popular_song = original_df[original_df['cluster'] == cluster].sort_values('popularity', ascending=False).iloc[0]\n",
        "        plt.text(cluster_center[0], cluster_center[1], popular_song['track_name'], fontsize=12)\n",
        "    plt.show()\n",
        "\n",
        "# Add 'cluster' column to the original dataframe\n",
        "original_df['cluster'] = model.labels_\n",
        "visualize_clusters_with_songs(pp_df, original_df, model)"
      ]
    },
    {
      "cell_type": "code",
      "execution_count": null,
      "metadata": {
        "id": "cZEVYA4GZYT9"
      },
      "outputs": [],
      "source": [
        "# Recommend a song from a given cluster\n",
        "def recommend_songs(df, model, cluster):\n",
        "    indices = np.where(df['cluster'] == cluster)[0]\n",
        "    songs = df.iloc[indices]\n",
        "    song = songs.sample()\n",
        "    return song[['track_name', 'artist_name', 'popularity']]\n",
        "\n",
        "# Recommend a song from cluster 0\n",
        "print(recommend_songs(original_df, model, 0))"
      ]
    },
    {
      "cell_type": "code",
      "execution_count": null,
      "metadata": {
        "id": "8JPfbNC2ZYT9"
      },
      "outputs": [],
      "source": [
        "# Recommend a song based on a given song from the model\n",
        "def recommend_song(df, model, song_name):\n",
        "    song = df[df['track_name'] == song_name].iloc[0]\n",
        "    # Ensure we drop the same columns that were dropped during preprocessing\n",
        "    song_features = song.drop(['track_id', 'track_name', 'artist_name', 'cluster']) # 'popularity'\n",
        "    # Convert to DataFrame with appropriate column names\n",
        "    song_features_df = pd.DataFrame([song_features], columns=song_features.index)\n",
        "    song_features_scaled = scaler.transform(song_features_df)\n",
        "    cluster = model.predict(song_features_scaled)[0]\n",
        "    return recommend_songs(df, model, cluster)\n",
        "\n",
        "# Recommend a song based on 'Shape of You' by Ed Sheeran\n",
        "print(recommend_song(original_df, model, 'Breath'))"
      ]
    },
    {
      "cell_type": "code",
      "execution_count": null,
      "metadata": {
        "id": "LMJcLMuZZYT9"
      },
      "outputs": [],
      "source": [
        "# Load Spotify credentials--replace part in quotes with what you called the credentials in the credential manager\n",
        "# A pop up will ask you to grant access to the credentials if you don't have that already selected\n",
        "\n",
        "client_id = userdata.get('spotify_client_id_matt')\n",
        "client_secret = userdata.get('spotify_client_secret_matt')\n",
        "\n"
      ]
    },
    {
      "cell_type": "code",
      "execution_count": null,
      "metadata": {
        "id": "Sz-25kpCZYT-"
      },
      "outputs": [],
      "source": [
        "# Pull audio features for a given song from Spotify and return them in a format that can be used by the model\n",
        "def get_audio_features(track_name, artist_name, client_id, client_secret):\n",
        "    # Initialize Spotipy client\n",
        "    sp = spotipy.Spotify(client_credentials_manager=spotipy.oauth2.SpotifyClientCredentials(client_id, client_secret))\n",
        "    # Search for the track\n",
        "    results = sp.search(q=f'track:{track_name} artist:{artist_name}', type='track', limit=1)\n",
        "    # Get the track ID\n",
        "    track_id = results['tracks']['items'][0]['id']\n",
        "    # Get the audio features\n",
        "    audio_features = sp.audio_features(track_id)[0]\n",
        "    # Get the popularity\n",
        "    popularity = results['tracks']['items'][0]['popularity']\n",
        "    # Convert the audio features and popularity to a DataFrame\n",
        "    audio_features_df = pd.DataFrame([audio_features])\n",
        "    audio_features_df['popularity'] = popularity\n",
        "    # Drop irrelevant columns\n",
        "    audio_features_df = audio_features_df.drop(['type', 'id', 'uri', 'track_href', 'analysis_url'], axis=1)\n",
        "    # Rearrange columns to match the original DataFrame\n",
        "    audio_features_df = audio_features_df[['acousticness','danceability', 'duration_ms', 'energy', 'instrumentalness', 'key', 'liveness', 'loudness', 'mode', 'speechiness', 'tempo', 'time_signature', 'valence', 'popularity']]\n",
        "    return audio_features_df\n",
        "\n",
        "# Get audio features for 'With or Without You' by U2\n",
        "audio_features = get_audio_features('With or Without You', 'U2', client_id, client_secret)\n",
        "print(audio_features)"
      ]
    },
    {
      "cell_type": "code",
      "execution_count": null,
      "metadata": {
        "id": "7zE-joBoZYT-"
      },
      "outputs": [],
      "source": [
        " # Recommend a song based on the new song 'With or Without You' by U2\n",
        "def recommend_song_from_audio_features(df, model, audio_features, scaler):\n",
        "    # Scale the audio features\n",
        "    audio_features_scaled = scaler.transform(audio_features)\n",
        "    # Predict the cluster\n",
        "    cluster = model.predict(audio_features_scaled)[0]\n",
        "    return recommend_songs(df, model, cluster)\n",
        "\n",
        "# Recommend a song based on 'With or Without You' by U2\n",
        "print(recommend_song_from_audio_features(original_df, model, audio_features, scaler))\n"
      ]
    },
    {
      "cell_type": "code",
      "execution_count": null,
      "metadata": {
        "id": "12WmBlODZYT-"
      },
      "outputs": [],
      "source": [
        "# Cheese"
      ]
    }
  ],
  "metadata": {
    "colab": {
      "include_colab_link": true,
      "provenance": []
    },
    "kernelspec": {
      "display_name": "base",
      "language": "python",
      "name": "python3"
    },
    "language_info": {
      "codemirror_mode": {
        "name": "ipython",
        "version": 3
      },
      "file_extension": ".py",
      "mimetype": "text/x-python",
      "name": "python",
      "nbconvert_exporter": "python",
      "pygments_lexer": "ipython3",
      "version": "3.10.9"
    }
  },
  "nbformat": 4,
  "nbformat_minor": 0
}
