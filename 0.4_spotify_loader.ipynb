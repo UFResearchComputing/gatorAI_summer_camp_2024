{
 "cells": [
  {
   "cell_type": "code",
   "execution_count": null,
   "metadata": {},
   "outputs": [],
   "source": [
    "# This notebook authenticates with Spotify and handles the playback of a song."
   ]
  },
  {
   "cell_type": "code",
   "execution_count": 2,
   "metadata": {},
   "outputs": [],
   "source": [
    "# Import the necessary libraries\n",
    "import spotipy\n",
    "from spotipy.oauth2 import SpotifyOAuth\n",
    "import spot_creds"
   ]
  },
  {
   "cell_type": "code",
   "execution_count": 3,
   "metadata": {},
   "outputs": [
    {
     "name": "stdout",
     "output_type": "stream",
     "text": [
      "Please visit this URL to authorize your application: https://accounts.spotify.com/authorize?client_id=06dcb5266904482983b95f6f1d02bba5&response_type=code&redirect_uri=https%3A%2F%2Flocalhost%3A8888%2Fcallback&scope=user-modify-playback-state\n"
     ]
    }
   ],
   "source": [
    "# Set up Spotipy (Replace with your actual credentials and redirect URI)\n",
    "client_id = spot_creds.client_id\n",
    "client_secret = spot_creds.client_secret\n",
    "redirect_uri = 'https://localhost:8888/callback'  # Or any suitable redirect URI\n",
    "\n",
    "scope = \"user-modify-playback-state\"  # Request permission to control playback\n",
    "\n",
    "# Create SpotifyOAuth object\n",
    "sp_oauth = SpotifyOAuth(client_id=client_id, client_secret=client_secret, redirect_uri=redirect_uri, scope=scope, cache_path=None)\n",
    "\n",
    "# Get authorization URL and prompt the user to authorize\n",
    "auth_url = sp_oauth.get_authorize_url()\n",
    "print(\"Please visit this URL to authorize your application:\", auth_url)\n",
    "\n",
    "# Get authorization code from the user (You'll need a way to capture this)\n",
    "auth_code = input(\"Enter the authorization code: \")\n",
    "\n",
    "# Get access token\n",
    "token_info = sp_oauth.get_access_token(auth_code)\n",
    "access_token = token_info['access_token']\n",
    "\n",
    "# Create Spotify object with the access token\n",
    "spotify = spotipy.Spotify(auth=access_token)\n",
    "\n",
    "# Get the URI of the song you want to play\n",
    "uri = 'spotify:track:0123456789'\n",
    "\n",
    "# Play the song\n",
    "spotify.start_playback(uris=[uri])"
   ]
  },
  {
   "cell_type": "code",
   "execution_count": null,
   "metadata": {},
   "outputs": [],
   "source": []
  }
 ],
 "metadata": {
  "kernelspec": {
   "display_name": "base",
   "language": "python",
   "name": "python3"
  },
  "language_info": {
   "codemirror_mode": {
    "name": "ipython",
    "version": 3
   },
   "file_extension": ".py",
   "mimetype": "text/x-python",
   "name": "python",
   "nbconvert_exporter": "python",
   "pygments_lexer": "ipython3",
   "version": "3.11.7"
  }
 },
 "nbformat": 4,
 "nbformat_minor": 2
}
