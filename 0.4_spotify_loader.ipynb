{
 "cells": [
  {
   "cell_type": "code",
   "execution_count": null,
   "metadata": {},
   "outputs": [],
   "source": [
    "# This notebook authenticates with Spotify and handles the playback of a song."
   ]
  },
  {
   "cell_type": "code",
   "execution_count": 1,
   "metadata": {},
   "outputs": [],
   "source": [
    "# Import the necessary libraries\n",
    "import spotipy\n",
    "from spotipy.oauth2 import SpotifyOAuth\n",
    "import spot_creds"
   ]
  },
  {
   "cell_type": "code",
   "execution_count": 5,
   "metadata": {},
   "outputs": [
    {
     "name": "stdout",
     "output_type": "stream",
     "text": [
      "Please visit this URL to authorize your application: https://accounts.spotify.com/authorize?client_id=34452d07a7e84f8b80fa28897232e850&response_type=code&redirect_uri=https%3A%2F%2Flocalhost%3A8888%2Fcallback&scope=user-modify-playback-state+user-read-playback-state\n"
     ]
    },
    {
     "name": "stderr",
     "output_type": "stream",
     "text": [
      "C:\\Users\\i.lutticken\\AppData\\Local\\Temp\\ipykernel_20672\\1953101451.py:19: DeprecationWarning: You're using 'as_dict = True'.get_access_token will return the token string directly in future versions. Please adjust your code accordingly, or use get_cached_token instead.\n",
      "  token_info = sp_oauth.get_access_token(auth_code)\n"
     ]
    }
   ],
   "source": [
    "# Set up Spotipy (Replace with your actual credentials and redirect URI)\n",
    "client_id = spot_creds.client_id\n",
    "client_secret = spot_creds.client_secret\n",
    "redirect_uri = 'https://localhost:8888/callback'  # Or any suitable redirect URI\n",
    "\n",
    "scope = \"user-modify-playback-state user-read-playback-state\"  # Request permission to control playback\n",
    "\n",
    "# Create SpotifyOAuth object\n",
    "sp_oauth = SpotifyOAuth(client_id=client_id, client_secret=client_secret, redirect_uri=redirect_uri, scope=scope, cache_path=None)\n",
    "\n",
    "# Get authorization URL and prompt the user to authorize\n",
    "auth_url = sp_oauth.get_authorize_url()\n",
    "print(\"Please visit this URL to authorize your application:\", auth_url)\n",
    "\n",
    "# Get authorization code from the user (You'll need a way to capture this)\n",
    "auth_code = input(\"Enter the authorization code: \")\n",
    "\n",
    "# Get access token\n",
    "token_info = sp_oauth.get_access_token(auth_code)\n",
    "access_token = token_info['access_token']\n",
    "\n",
    "# Create Spotify object with the access token\n",
    "spotify = spotipy.Spotify(auth=access_token)"
   ]
  },
  {
   "cell_type": "code",
   "execution_count": 10,
   "metadata": {},
   "outputs": [
    {
     "name": "stdout",
     "output_type": "stream",
     "text": [
      "Using device: IT-RC-039M with ID 79f7748f69ddad37b63e1b70f0fe6206b9b9928c\n",
      "Started playback on IT-RC-039M\n"
     ]
    }
   ],
   "source": [
    "# Get the active device list\n",
    "devices = spotify.devices()\n",
    "\n",
    "def play_song(track_uri):\n",
    "    if not devices['devices']:\n",
    "        print(\"No active devices found. Please make sure Spotify is running on one of your devices.\")\n",
    "    else:\n",
    "        # Select the first active device\n",
    "        device_id = devices['devices'][0]['id']\n",
    "        device_name = devices['devices'][0]['name']\n",
    "        print(f\"Using device: {device_name} with ID {device_id}\")\n",
    "\n",
    "        # Get the URI of the song you want to play\n",
    "        uri = track_uri\n",
    "\n",
    "        # Play the song on the selected device\n",
    "        spotify.start_playback(device_id=device_id, uris=[uri])\n",
    "        print(f\"Started playback on {device_name}\")\n",
    "\n",
    "# Example usage\n",
    "# play_song(\"spotify:track:3AFpIlNR4DEJ1WC7qyOHU8\")  # Play 'Affection' by Crystal Castles"
   ]
  }
 ],
 "metadata": {
  "kernelspec": {
   "display_name": "base",
   "language": "python",
   "name": "python3"
  },
  "language_info": {
   "codemirror_mode": {
    "name": "ipython",
    "version": 3
   },
   "file_extension": ".py",
   "mimetype": "text/x-python",
   "name": "python",
   "nbconvert_exporter": "python",
   "pygments_lexer": "ipython3",
   "version": "3.11.7"
  }
 },
 "nbformat": 4,
 "nbformat_minor": 2
}
