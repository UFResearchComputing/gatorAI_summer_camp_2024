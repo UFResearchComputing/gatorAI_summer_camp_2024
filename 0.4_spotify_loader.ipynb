{
 "cells": [
  {
   "cell_type": "code",
   "execution_count": null,
   "metadata": {},
   "outputs": [],
   "source": [
    "# This notebook authenticates with Spotify and handles the playback of a song."
   ]
  },
  {
   "cell_type": "code",
   "execution_count": 1,
   "metadata": {},
   "outputs": [],
   "source": [
    "# Import the necessary libraries\n",
    "import spotipy\n",
    "from spotipy.oauth2 import SpotifyOAuth\n",
    "import spot_creds"
   ]
  },
  {
   "cell_type": "code",
   "execution_count": 2,
   "metadata": {},
   "outputs": [
    {
     "name": "stdout",
     "output_type": "stream",
     "text": [
      "Please visit this URL to authorize your application: https://accounts.spotify.com/authorize?client_id=06dcb5266904482983b95f6f1d02bba5&response_type=code&redirect_uri=https%3A%2F%2Flocalhost%3A8888%2Fcallback&scope=user-modify-playback-state\n"
     ]
    },
    {
     "name": "stderr",
     "output_type": "stream",
     "text": [
      "C:\\Users\\i.lutticken\\AppData\\Local\\Temp\\ipykernel_14892\\1692849374.py:19: DeprecationWarning: You're using 'as_dict = True'.get_access_token will return the token string directly in future versions. Please adjust your code accordingly, or use get_cached_token instead.\n",
      "  token_info = sp_oauth.get_access_token(auth_code)\n"
     ]
    },
    {
     "ename": "SpotifyOauthError",
     "evalue": "error: invalid_request, error_description: code must be supplied",
     "output_type": "error",
     "traceback": [
      "\u001b[1;31m---------------------------------------------------------------------------\u001b[0m",
      "\u001b[1;31mHTTPError\u001b[0m                                 Traceback (most recent call last)",
      "File \u001b[1;32mc:\\Users\\i.lutticken\\AppData\\Local\\anaconda3\\Lib\\site-packages\\spotipy\\oauth2.py:549\u001b[0m, in \u001b[0;36mSpotifyOAuth.get_access_token\u001b[1;34m(self, code, as_dict, check_cache)\u001b[0m\n\u001b[0;32m    541\u001b[0m response \u001b[38;5;241m=\u001b[39m \u001b[38;5;28mself\u001b[39m\u001b[38;5;241m.\u001b[39m_session\u001b[38;5;241m.\u001b[39mpost(\n\u001b[0;32m    542\u001b[0m     \u001b[38;5;28mself\u001b[39m\u001b[38;5;241m.\u001b[39mOAUTH_TOKEN_URL,\n\u001b[0;32m    543\u001b[0m     data\u001b[38;5;241m=\u001b[39mpayload,\n\u001b[1;32m   (...)\u001b[0m\n\u001b[0;32m    547\u001b[0m     timeout\u001b[38;5;241m=\u001b[39m\u001b[38;5;28mself\u001b[39m\u001b[38;5;241m.\u001b[39mrequests_timeout,\n\u001b[0;32m    548\u001b[0m )\n\u001b[1;32m--> 549\u001b[0m response\u001b[38;5;241m.\u001b[39mraise_for_status()\n\u001b[0;32m    550\u001b[0m token_info \u001b[38;5;241m=\u001b[39m response\u001b[38;5;241m.\u001b[39mjson()\n",
      "File \u001b[1;32mc:\\Users\\i.lutticken\\AppData\\Local\\anaconda3\\Lib\\site-packages\\requests\\models.py:1021\u001b[0m, in \u001b[0;36mResponse.raise_for_status\u001b[1;34m(self)\u001b[0m\n\u001b[0;32m   1020\u001b[0m \u001b[38;5;28;01mif\u001b[39;00m http_error_msg:\n\u001b[1;32m-> 1021\u001b[0m     \u001b[38;5;28;01mraise\u001b[39;00m HTTPError(http_error_msg, response\u001b[38;5;241m=\u001b[39m\u001b[38;5;28mself\u001b[39m)\n",
      "\u001b[1;31mHTTPError\u001b[0m: 400 Client Error: Bad Request for url: https://accounts.spotify.com/api/token",
      "\nDuring handling of the above exception, another exception occurred:\n",
      "\u001b[1;31mSpotifyOauthError\u001b[0m                         Traceback (most recent call last)",
      "Cell \u001b[1;32mIn[2], line 19\u001b[0m\n\u001b[0;32m     16\u001b[0m auth_code \u001b[38;5;241m=\u001b[39m \u001b[38;5;28minput\u001b[39m(\u001b[38;5;124m\"\u001b[39m\u001b[38;5;124mEnter the authorization code: \u001b[39m\u001b[38;5;124m\"\u001b[39m)\n\u001b[0;32m     18\u001b[0m \u001b[38;5;66;03m# Get access token\u001b[39;00m\n\u001b[1;32m---> 19\u001b[0m token_info \u001b[38;5;241m=\u001b[39m sp_oauth\u001b[38;5;241m.\u001b[39mget_access_token(auth_code)\n\u001b[0;32m     20\u001b[0m access_token \u001b[38;5;241m=\u001b[39m token_info[\u001b[38;5;124m'\u001b[39m\u001b[38;5;124maccess_token\u001b[39m\u001b[38;5;124m'\u001b[39m]\n\u001b[0;32m     22\u001b[0m \u001b[38;5;66;03m# Create Spotify object with the access token\u001b[39;00m\n",
      "File \u001b[1;32mc:\\Users\\i.lutticken\\AppData\\Local\\anaconda3\\Lib\\site-packages\\spotipy\\oauth2.py:555\u001b[0m, in \u001b[0;36mSpotifyOAuth.get_access_token\u001b[1;34m(self, code, as_dict, check_cache)\u001b[0m\n\u001b[0;32m    553\u001b[0m     \u001b[38;5;28;01mreturn\u001b[39;00m token_info \u001b[38;5;28;01mif\u001b[39;00m as_dict \u001b[38;5;28;01melse\u001b[39;00m token_info[\u001b[38;5;124m\"\u001b[39m\u001b[38;5;124maccess_token\u001b[39m\u001b[38;5;124m\"\u001b[39m]\n\u001b[0;32m    554\u001b[0m \u001b[38;5;28;01mexcept\u001b[39;00m requests\u001b[38;5;241m.\u001b[39mexceptions\u001b[38;5;241m.\u001b[39mHTTPError \u001b[38;5;28;01mas\u001b[39;00m http_error:\n\u001b[1;32m--> 555\u001b[0m     \u001b[38;5;28mself\u001b[39m\u001b[38;5;241m.\u001b[39m_handle_oauth_error(http_error)\n",
      "File \u001b[1;32mc:\\Users\\i.lutticken\\AppData\\Local\\anaconda3\\Lib\\site-packages\\spotipy\\oauth2.py:139\u001b[0m, in \u001b[0;36mSpotifyAuthBase._handle_oauth_error\u001b[1;34m(self, http_error)\u001b[0m\n\u001b[0;32m    136\u001b[0m     error \u001b[38;5;241m=\u001b[39m response\u001b[38;5;241m.\u001b[39mtext \u001b[38;5;129;01mor\u001b[39;00m \u001b[38;5;28;01mNone\u001b[39;00m\n\u001b[0;32m    137\u001b[0m     error_description \u001b[38;5;241m=\u001b[39m \u001b[38;5;28;01mNone\u001b[39;00m\n\u001b[1;32m--> 139\u001b[0m \u001b[38;5;28;01mraise\u001b[39;00m SpotifyOauthError(\n\u001b[0;32m    140\u001b[0m     \u001b[38;5;124mf\u001b[39m\u001b[38;5;124m'\u001b[39m\u001b[38;5;124merror: \u001b[39m\u001b[38;5;132;01m{\u001b[39;00merror\u001b[38;5;132;01m}\u001b[39;00m\u001b[38;5;124m, error_description: \u001b[39m\u001b[38;5;132;01m{\u001b[39;00merror_description\u001b[38;5;132;01m}\u001b[39;00m\u001b[38;5;124m'\u001b[39m,\n\u001b[0;32m    141\u001b[0m     error\u001b[38;5;241m=\u001b[39merror,\n\u001b[0;32m    142\u001b[0m     error_description\u001b[38;5;241m=\u001b[39merror_description\n\u001b[0;32m    143\u001b[0m )\n",
      "\u001b[1;31mSpotifyOauthError\u001b[0m: error: invalid_request, error_description: code must be supplied"
     ]
    }
   ],
   "source": [
    "# Set up Spotipy (Replace with your actual credentials and redirect URI)\n",
    "client_id = spot_creds.client_id\n",
    "client_secret = spot_creds.client_secret\n",
    "redirect_uri = 'https://localhost:8888/callback'  # Or any suitable redirect URI\n",
    "\n",
    "scope = \"user-modify-playback-state\"  # Request permission to control playback\n",
    "\n",
    "# Create SpotifyOAuth object\n",
    "sp_oauth = SpotifyOAuth(client_id=client_id, client_secret=client_secret, redirect_uri=redirect_uri, scope=scope, cache_path=None)\n",
    "\n",
    "# Get authorization URL and prompt the user to authorize\n",
    "auth_url = sp_oauth.get_authorize_url()\n",
    "print(\"Please visit this URL to authorize your application:\", auth_url)\n",
    "\n",
    "# Get authorization code from the user (You'll need a way to capture this)\n",
    "auth_code = input(\"Enter the authorization code: \")\n",
    "\n",
    "# Get access token\n",
    "token_info = sp_oauth.get_access_token(auth_code)\n",
    "access_token = token_info['access_token']\n",
    "\n",
    "# Create Spotify object with the access token\n",
    "spotify = spotipy.Spotify(auth=access_token)\n",
    "\n",
    "# Get the URI of the song you want to play\n",
    "uri = 'spotify:track:0123456789'\n",
    "\n",
    "# Play the song\n",
    "spotify.start_playback(uris=[uri])"
   ]
  },
  {
   "cell_type": "code",
   "execution_count": null,
   "metadata": {},
   "outputs": [],
   "source": []
  }
 ],
 "metadata": {
  "kernelspec": {
   "display_name": "base",
   "language": "python",
   "name": "python3"
  },
  "language_info": {
   "codemirror_mode": {
    "name": "ipython",
    "version": 3
   },
   "file_extension": ".py",
   "mimetype": "text/x-python",
   "name": "python",
   "nbconvert_exporter": "python",
   "pygments_lexer": "ipython3",
   "version": "3.11.7"
  }
 },
 "nbformat": 4,
 "nbformat_minor": 2
}
